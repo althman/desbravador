{
  "nbformat": 4,
  "nbformat_minor": 0,
  "metadata": {
    "colab": {
      "name": "olist.ipynb",
      "provenance": []
    },
    "kernelspec": {
      "name": "ir",
      "display_name": "R"
    }
  },
  "cells": [
    {
      "cell_type": "code",
      "metadata": {
        "id": "OHD7CHurqjsX"
      },
      "source": [
        "# Carregando pacotes necessários ----\r\n",
        "source('olist/util/pacotes_necessarios.R')\r\n",
        "\r\n",
        "# Carrega algumas funções úteis para plotagem exploratória ----\r\n",
        "source('olist/util/funcoes_plot.R')"
      ],
      "execution_count": null,
      "outputs": []
    },
    {
      "cell_type": "code",
      "metadata": {
        "id": "7G_e-xoKyc47"
      },
      "source": [
        "# No sistema da Olist cada pedido é designado a um unique customerid. \r\n",
        "# Isso significa que cada consumidor terá diferentes ids para diferentes pedidos. \r\n",
        "# O propósito de ter um customerunique_id na base é permitir identificar consumidores que fizeram recompras na loja. \r\n",
        "# Caso contrário, você encontraria que cada ordem sempre tivesse diferentes consumidores associados.\r\n",
        "\r\n",
        "# customer_unique_id é único por pessoa (como se fosse um \"CPF\")\r\n",
        "# n_distinct(clientes$customer_id) == n_distinct(orders$order_id)\r\n",
        "# Tanto o \"customer_id\" quanto o \"order_id\" são únicos por compra\r\n",
        "\r\n",
        "# Import ----\r\n",
        "clientes <- read_csv('data/olist_customers_dataset.csv')\r\n",
        "orders <- read_csv('data/olist_orders_dataset.csv')\r\n",
        "reviews <- read_csv('data/olist_order_reviews_dataset.csv')\r\n",
        "pagamentos <- read_csv('data/olist_order_payments_dataset.csv')\r\n",
        "produtos <- read_csv('data/olist_products_dataset.csv')\r\n",
        "vendedores <- read_csv('data/olist_sellers_dataset.csv')\r\n",
        "categorias <- read_csv('data/product_category_name_translation.csv')\r\n",
        "geolocalizacao <- read_csv('data/olist_geolocation_dataset.csv')\r\n",
        "order_items <- read_csv('data/olist_order_items_dataset.csv')"
      ],
      "execution_count": null,
      "outputs": []
    },
    {
      "cell_type": "code",
      "metadata": {
        "id": "AmygiQja1QGS"
      },
      "source": [
        "# Explicação do pipe (%>%):\r\n",
        "\r\n",
        "# pegue isso então faça isso, então faça essa outra coisa\r\n",
        "# pegue isso %>% faça isso %>% faça essa outra coisa\r\n",
        "\r\n",
        "# Juntando Dados (\"Tidying\") ----\r\n",
        "base_completa <- clientes %>% \r\n",
        "  left_join(orders) %>% \r\n",
        "  left_join(order_items) %>% # Uma ordem pode ter muito itens (por isso a base expande aqui)\r\n",
        "  left_join(reviews) %>% \r\n",
        "  left_join(pagamentos) %>% \r\n",
        "  left_join(produtos) %>%\r\n",
        "  left_join(vendedores) %>% \r\n",
        "  left_join(categorias) %>% \r\n",
        "  left_join(geolocalizacao %>% distinct(geolocation_zip_code_prefix), by = c('customer_zip_code_prefix' = 'geolocation_zip_code_prefix'))\r\n"
      ],
      "execution_count": null,
      "outputs": []
    },
    {
      "cell_type": "code",
      "metadata": {
        "id": "YyyAaDfm2i3-"
      },
      "source": [
        "# Olhadela inicial na base:\r\n",
        "skim(base_completa)"
      ],
      "execution_count": null,
      "outputs": []
    },
    {
      "cell_type": "code",
      "metadata": {
        "id": "3vfmI_0F3M71"
      },
      "source": [
        "# Lembrando que a análise por item expande a base, mas a maioria dos pedidos é de um item somente.\r\n",
        "\r\n",
        "order_items %>% \r\n",
        "  count(order_item_id) %>% # Número de itens do mesmo pedido\r\n",
        "  mutate(prop = n / sum(n)) # 87% dos pedidos tem só um item"
      ],
      "execution_count": null,
      "outputs": []
    },
    {
      "cell_type": "code",
      "metadata": {
        "id": "qEcJwku8PQcD"
      },
      "source": [
        "# IMPORTANTE: existem duplicidades: \r\n",
        "# reviews %>% janitor::get_dupes(order_id)\r\n",
        "# reviews %>% janitor::get_dupes(review_id)\r\n",
        "# order_items %>% janitor::get_dupes(order_id)\r\n",
        "\r\n",
        "# Além disso, geolocalizacao %>% distinct() instabilidade com relação aos distintos. Por exemplo, zip_code_prefix 01046, possui dois valores de latitude\r\n",
        "\r\n",
        "# Para simplificar, vamos limitar nossa análise somente para pedidos com um item\r\n",
        "base_completa <- base_completa %>% \r\n",
        "  filter(order_item_id == 1)"
      ],
      "execution_count": 40,
      "outputs": []
    },
    {
      "cell_type": "code",
      "metadata": {
        "id": "kebhs0EFPTD3"
      },
      "source": [
        "# Verifica qtd. de linhas e colunas e estrutura das colunas\r\n",
        "glimpse(base_completa)"
      ],
      "execution_count": null,
      "outputs": []
    },
    {
      "cell_type": "code",
      "metadata": {
        "id": "qLLfrsw8PYrD"
      },
      "source": [
        "print(base_completa) # Visualiza base similarmente a uma planilha excel"
      ],
      "execution_count": null,
      "outputs": []
    },
    {
      "cell_type": "code",
      "metadata": {
        "id": "R-KBjHSWQTsc"
      },
      "source": [
        "# Transform ----\r\n",
        "\r\n",
        "# Nesta etapa, após a análise inicial da estrutura dos dados, criamos variáveis que serão úteis na análise.\r\n",
        "# Criação de uma variável de review_alto: \"1\" se score do review for 5, e \"0\" caso contrário. Não existem valores faltantes nessa variável sum(is.na(base_completa$review_score)) \r\n",
        "# Criação de uma variável de diferença entrega prazo de entrega dado para o cliente e data de entrega propriamente dita.\r\n",
        "# Criação de uma variável que relaciona valores de Frete e Preço.\r\n",
        "# Criação de uma variável de frete gratuito\r\n",
        "# Reduzimos o escopo da análise somente para entregas concluídas (order_status == 'delivered').\r\n",
        "\r\n",
        "base_analise <- base_completa %>% \r\n",
        "  mutate(review_alto = ifelse(review_score == 5, 'Nota Máxima', 'Menor que 5'),\r\n",
        "         review_alto_numerico = ifelse(review_score == 5, 1, 0), # É útil termos a variável dependente como numérica para algumas análises exploratórias\r\n",
        "         order_delivered_customer_date = as.Date(order_delivered_customer_date),\r\n",
        "         order_estimated_delivery_date = as.Date(order_estimated_delivery_date),\r\n",
        "         dias_antecipacao_na_entrega = order_estimated_delivery_date - order_delivered_customer_date,\r\n",
        "         atrasou = ifelse(dias_antecipacao_na_entrega < 0, 1, 0),\r\n",
        "         frete_sobre_preco = freight_value / price,\r\n",
        "         frete_gratuito = ifelse(freight_value == 0, 1, 0)) %>% \r\n",
        "  select(customer_state, \r\n",
        "         order_status, \r\n",
        "         price, \r\n",
        "         freight_value, \r\n",
        "         payment_type, \r\n",
        "         payment_value, \r\n",
        "         product_category_name,\r\n",
        "         product_photos_qty,\r\n",
        "         review_score,\r\n",
        "         review_alto,\r\n",
        "         review_alto_numerico,\r\n",
        "         dias_antecipacao_na_entrega,\r\n",
        "         atrasou,\r\n",
        "         order_estimated_delivery_date,\r\n",
        "         order_delivered_customer_date,\r\n",
        "         review_comment_title,\r\n",
        "         review_comment_message,\r\n",
        "         frete_sobre_preco,\r\n",
        "         frete_gratuito,\r\n",
        "         customer_city,\r\n",
        "         seller_city) %>% \r\n",
        "  filter(order_status == 'delivered')"
      ],
      "execution_count": 50,
      "outputs": []
    },
    {
      "cell_type": "code",
      "metadata": {
        "id": "HBP2qSebQavu"
      },
      "source": [
        "# Como é a distribuição de Missings dos nossos Dados?\r\n",
        "\r\n",
        "# Visualização PARCIAL (20% da base) de Tipos e missings\r\n",
        "# Restartar o componente gráfico: dev.off()\r\n",
        "set.seed(1234)\r\n",
        "vis_dat(base_analise %>% \r\n",
        "          sample_frac(0.2))"
      ],
      "execution_count": null,
      "outputs": []
    },
    {
      "cell_type": "code",
      "metadata": {
        "id": "BIHTClTLQeDT"
      },
      "source": [
        "# Verificando quantidade de missing por coluna e ordenando\r\n",
        "map_df(base_analise, ~sum(is.na(.))) %>% \r\n",
        "  gather() %>% \r\n",
        "  arrange(desc(value))"
      ],
      "execution_count": null,
      "outputs": []
    },
    {
      "cell_type": "code",
      "metadata": {
        "id": "ZHp93WGyQzFn"
      },
      "source": [
        "sum(is.na(base_analise$atrasou)) # Opa, temos alguns Missings na variável 'atrasou'! Porque temos algumas linhas que não tem data de entrega."
      ],
      "execution_count": null,
      "outputs": []
    },
    {
      "cell_type": "code",
      "metadata": {
        "id": "RzvQKLiTQ28L"
      },
      "source": [
        "# Retirando esses casos da Base\r\n",
        "base_analise <- base_analise %>% \r\n",
        "  drop_na(atrasou)"
      ],
      "execution_count": 55,
      "outputs": []
    },
    {
      "cell_type": "code",
      "metadata": {
        "id": "WXhs8EkGQ9aU"
      },
      "source": [
        "# Exploração e Visualização ----\r\n",
        "\r\n",
        "# Antes, vale a pena olhar no Grammar of Graphics:\r\n",
        "# https://vita.had.co.nz/papers/layered-grammar.html\r\n",
        "# grammar_of_graphics.png\r\n",
        "# Importância da Visualização de Dados: anscombe_quartet.png e people_land_vote.gif\r\n",
        "\r\n",
        "\r\n",
        "# Algumas Análises Univariadas ----\r\n",
        "\r\n",
        "# Variável Dependente: Review Score e Review Alto\r\n",
        "base_analise %>% \r\n",
        "  count(review_score) %>% \r\n",
        "  mutate(prop = n / sum(n))"
      ],
      "execution_count": null,
      "outputs": []
    },
    {
      "cell_type": "code",
      "metadata": {
        "id": "ocdjT9frRIdJ"
      },
      "source": [
        "base_analise %>% \r\n",
        "  count(review_score) %>% \r\n",
        "  ggplot(aes(x = review_score, y = n)) +\r\n",
        "  geom_bar(stat ='identity')"
      ],
      "execution_count": null,
      "outputs": []
    },
    {
      "cell_type": "code",
      "metadata": {
        "id": "grGPY0X7RLFg"
      },
      "source": [
        "base_analise %>% \r\n",
        "  count(review_alto) %>% \r\n",
        "  mutate(prop = n / sum(n))"
      ],
      "execution_count": null,
      "outputs": []
    },
    {
      "cell_type": "code",
      "metadata": {
        "id": "PA3MMMaCROHl"
      },
      "source": [
        "base_analise %>% \r\n",
        "  count(review_alto) %>% \r\n",
        "  ggplot(aes(x = review_alto, y = n)) +\r\n",
        "  geom_bar(stat ='identity')"
      ],
      "execution_count": null,
      "outputs": []
    },
    {
      "cell_type": "code",
      "metadata": {
        "id": "WtOGyNQ6RSmX"
      },
      "source": [
        "# Algumas Variáveis Categóricas ----\r\n",
        "\r\n",
        "# Estado\r\n",
        "\r\n",
        "base_analise %>% \r\n",
        "  count(customer_state, sort = T) %>% \r\n",
        "  mutate(prop = n / sum(n))\r\n",
        "\r\n",
        "base_analise %>% \r\n",
        "  count(customer_state) %>% \r\n",
        "  ggplot(aes(x = customer_state, y = n)) +\r\n",
        "  geom_bar(stat ='identity')"
      ],
      "execution_count": null,
      "outputs": []
    },
    {
      "cell_type": "code",
      "metadata": {
        "id": "ZolBfnofRWpY"
      },
      "source": [
        "# payment_type\r\n",
        "\r\n",
        "base_analise %>% \r\n",
        "  count(payment_type, sort = T) %>% \r\n",
        "  mutate(prop = n / sum(n))\r\n",
        "\r\n",
        "base_analise %>% \r\n",
        "  count(payment_type) %>% \r\n",
        "  ggplot(aes(x = payment_type, y = n)) +\r\n",
        "  geom_bar(stat ='identity')"
      ],
      "execution_count": null,
      "outputs": []
    },
    {
      "cell_type": "code",
      "metadata": {
        "id": "OeqPbvqGRbAD"
      },
      "source": [
        "# product_category_name\r\n",
        "\r\n",
        "base_analise %>% \r\n",
        "  count(product_category_name, sort = T) %>% \r\n",
        "  mutate(prop = n / sum(n))"
      ],
      "execution_count": null,
      "outputs": []
    },
    {
      "cell_type": "code",
      "metadata": {
        "id": "UeravENmSXI5"
      },
      "source": [
        "# Algumas Variáveis Numéricas ----\r\n",
        "\r\n",
        "# Preço\r\n",
        "\r\n",
        "summary(base_analise$price)\r\n",
        "\r\n",
        "p1 <- base_analise %>% \r\n",
        "  ggplot(aes(y = price)) +\r\n",
        "  geom_boxplot() # Boxplot com diversos outliers\r\n",
        "\r\n",
        "p2 <- base_analise %>% \r\n",
        "  ggplot(aes(x = price)) +\r\n",
        "  geom_density()\r\n",
        "\r\n",
        "grid.arrange(p1, p2, nrow = 1)\r\n",
        "# Preço é extremamente assimétrico! Temos outliers com preços acima de R$6000\r\n",
        "# O mais comum é transformar essa variável para estabilizá-la se é desejável incluí-la na modelagem\r\n",
        "# Obs.: apenas \"padronizar\" a variável (isto é, sutrair a média e dividir pelo desvio padrão) não é suficiente para retirar a assimetria dela."
      ],
      "execution_count": null,
      "outputs": []
    },
    {
      "cell_type": "code",
      "metadata": {
        "id": "qeyr06zXSa2Q"
      },
      "source": [
        "pp1 <- base_analise %>% \r\n",
        "  ggplot(aes(y = log(price))) +\r\n",
        "  geom_boxplot() +\r\n",
        "  ggtitle('Boxplot de preço mais estável com a Transformação Logarítmica')\r\n",
        "\r\n",
        "pp2 <- base_analise %>% \r\n",
        "  ggplot(aes(x = log(price))) +\r\n",
        "  geom_density() +\r\n",
        "  ggtitle('Variável de Preço com Transformação Logarítmica')\r\n",
        "\r\n",
        "grid.arrange(pp1, pp2, nrow = 1)\r\n",
        "# Nota: Boxplot pode ser problemático por não refletir a distribuição dos dados. Veremos adiante um exemplo melhor."
      ],
      "execution_count": null,
      "outputs": []
    },
    {
      "cell_type": "code",
      "metadata": {
        "id": "8FfP8-sKSlAa"
      },
      "source": [
        "# Frete\r\n",
        "\r\n",
        "summary(base_analise$freight_value)\r\n",
        "\r\n",
        "base_analise %>% \r\n",
        "  ggplot(aes(x = freight_value)) +\r\n",
        "  geom_density()\r\n",
        "\r\n",
        "base_analise %>% \r\n",
        "  ggplot(aes(x = log(freight_value))) +\r\n",
        "  geom_density() +\r\n",
        "  ggtitle('Variável de Frete com Transformação Logarítmica')"
      ],
      "execution_count": null,
      "outputs": []
    },
    {
      "cell_type": "code",
      "metadata": {
        "id": "odUtpsIDTKcg"
      },
      "source": [
        "# A variável de Frete parece ser mais problemática, pois tem valores 0 e alguns saltos\r\n",
        "# Como eu poderia identificar rapidamente aonde estão esses pontos de corte???\r\n",
        "# Com interatividade gráfica!\r\n",
        "\r\n",
        "(base_analise %>% \r\n",
        "  filter(freight_value > 0) %>% # Tira os fretes gratuitos\r\n",
        "  ggplot(aes(x = freight_value)) +\r\n",
        "  geom_density()) %>% ggplotly()"
      ],
      "execution_count": null,
      "outputs": []
    },
    {
      "cell_type": "code",
      "metadata": {
        "id": "mlrx6GCLTS-D"
      },
      "source": [
        "# O ponto no entorno do 10 parece um ponto de atenção\r\n",
        "# Temos muitos valores de frete repetidos.\r\n",
        "# Talvez seria interessante transformar essa variável em categórica (ou somar uma constante).\r\n",
        "\r\n",
        "# IMPORTANTE:\r\n",
        "# Além disso, o frete deve ter relação com a distância entre customer e seller, \r\n",
        "# isso poderia ser levado em consideração fazendo algum tipo de manipulação de \r\n",
        "# localização (que está por zipcode). \r\n",
        "# Os dados permitiriam fazer essa análise de maneira fácil?\r\n",
        "\r\n",
        "# Frete sobre preço\r\n",
        "\r\n",
        "summary(base_analise$frete_sobre_preco)\r\n",
        "\r\n",
        "base_analise %>% \r\n",
        "  ggplot(aes(x = frete_sobre_preco)) +\r\n",
        "  geom_density()\r\n",
        "\r\n",
        "base_analise %>% \r\n",
        "  ggplot(aes(x = log(frete_sobre_preco))) +\r\n",
        "  geom_density()\r\n",
        "\r\n",
        "# Importante: o logaritmo do Frete, quando ele é zero, resulta em -Infinito!"
      ],
      "execution_count": null,
      "outputs": []
    },
    {
      "cell_type": "code",
      "metadata": {
        "id": "yPhdrMz0TcQB"
      },
      "source": [
        "# Frete vs. Preço (neste caso, é uma análise bivariada)\r\n",
        "\r\n",
        "base_analise %>% \r\n",
        "  sample_frac(0.2) %>% # Para reduzir o custo computacional\r\n",
        "  ggplot(aes(x = log(price),\r\n",
        "             y = log(freight_value))) +\r\n",
        "  geom_point() +\r\n",
        "  geom_smooth() # Mostrar tendência crescente\r\n",
        "\r\n",
        "# Frete Gratuito\r\n",
        "\r\n",
        "base_analise %>% \r\n",
        "  count(frete_gratuito, sort = T) %>% \r\n",
        "  mutate(prop = n / sum(n))\r\n",
        "# Quantidade Irrisória, não vale a pena modelar"
      ],
      "execution_count": null,
      "outputs": []
    },
    {
      "cell_type": "code",
      "metadata": {
        "id": "rWViC3mjThPr"
      },
      "source": [
        "# Dias de Antecipação na entrega e Atrasou\r\n",
        "\r\n",
        "summary(as.numeric(base_analise$dias_antecipacao_na_entrega))\r\n",
        "\r\n",
        "base_analise %>% \r\n",
        "  ggplot(aes(x = dias_antecipacao_na_entrega)) +\r\n",
        "  geom_density()\r\n",
        "\r\n",
        "base_analise %>% \r\n",
        "  count(atrasou) %>% \r\n",
        "  mutate(prop = n / sum(n))"
      ],
      "execution_count": null,
      "outputs": []
    },
    {
      "cell_type": "code",
      "metadata": {
        "id": "JEdOHB45TmaK"
      },
      "source": [
        "# product_photos_qty\r\n",
        "\r\n",
        "base_analise %>% \r\n",
        "  count(product_photos_qty) %>% \r\n",
        "  mutate(prop = n / sum(n))\r\n",
        "# Seria interessante imputar 0 nos NA e reclassificar essa variável\r\n"
      ],
      "execution_count": null,
      "outputs": []
    },
    {
      "cell_type": "code",
      "metadata": {
        "id": "ciyGl3nETpvl"
      },
      "source": [
        "# Análises Bivariadas relacionando com a var. dependente/resposta (review_alto) ----\r\n",
        "\r\n",
        "# Estado vs. Review\r\n",
        "\r\n",
        "base_analise %>% \r\n",
        "  group_by(customer_state) %>% \r\n",
        "  summarize(n = n(),\r\n",
        "            n_review_alto = sum(review_alto_numerico),\r\n",
        "            tx_review_alto = mean(review_alto_numerico)) %>% \r\n",
        "  print()"
      ],
      "execution_count": null,
      "outputs": []
    },
    {
      "cell_type": "code",
      "metadata": {
        "id": "Z7yY2PgeT_TY"
      },
      "source": [
        "# Visualização Interativa usando plotly\r\n",
        "base_analise %>% \r\n",
        "  plota_tx_interesse(var_x = 'customer_state',\r\n",
        "                     var_y = 'review_alto',\r\n",
        "                     flag_interesse = 'Nota Máxima')\r\n",
        "\r\n",
        "# Aparentemente o Estado não influencia tanto o Review\r\n",
        "\r\n",
        "# Interlúdio: O poder da Escala!\r\n",
        "base_analise %>% \r\n",
        "  plota_tx_interesse(var_x = 'customer_state',\r\n",
        "                     var_y = 'review_alto',\r\n",
        "                     flag_interesse = 'Nota Máxima',\r\n",
        "                     ylim = NA)\r\n",
        "\r\n",
        "\r\n",
        "# payment_type vs. Review\r\n",
        "base_analise %>% \r\n",
        "  plota_tx_interesse(var_x = 'payment_type',\r\n",
        "                     var_y = 'review_alto',\r\n",
        "                     flag_interesse = 'Nota Máxima',\r\n",
        "                     ylim = NA)\r\n",
        "\r\n",
        "# product_category_name vs. Review\r\n",
        "base_analise %>% \r\n",
        "  plota_tx_interesse(var_x = 'product_category_name',\r\n",
        "                     var_y = 'review_alto',\r\n",
        "                     flag_interesse = 'Nota Máxima',\r\n",
        "                     ylim = NA)\r\n",
        "\r\n",
        "# Muitas classes, vamos agrupar em algumas\r\n",
        "base_analise %>% \r\n",
        "  mutate(product_category_name_cat = fct_lump(product_category_name, 7)) %>% \r\n",
        "  plota_tx_interesse(var_x = 'product_category_name_cat',\r\n",
        "                     var_y = 'review_alto',\r\n",
        "                     flag_interesse = 'Nota Máxima',\r\n",
        "                     ylim = NA)"
      ],
      "execution_count": null,
      "outputs": []
    },
    {
      "cell_type": "code",
      "metadata": {
        "id": "gPMIE9nsXSuY"
      },
      "source": [
        "# Preço/Frete/Frete sobre Preço vs. Review\r\n",
        "\r\n",
        "# Preço\r\n",
        "base_analise %>% \r\n",
        "  group_by(review_alto) %>% \r\n",
        "  summarize(n = n(),\r\n",
        "            media = mean(price, na.rm = T),\r\n",
        "            desvio_padrao = sd(price, na.rm = T),\r\n",
        "            min = min(price, na.rm = T),\r\n",
        "            max = max(price, na.rm = T))\r\n",
        "\r\n",
        "# Frete\r\n",
        "base_analise %>% \r\n",
        "  group_by(review_alto) %>% \r\n",
        "  summarize(n = n(),\r\n",
        "            media = mean(freight_value, na.rm = T),\r\n",
        "            desvio_padrao = sd(freight_value, na.rm = T),\r\n",
        "            min = min(freight_value, na.rm = T),\r\n",
        "            max = max(freight_value, na.rm = T))\r\n",
        "\r\n",
        "# Frete sobre Preço\r\n",
        "base_analise %>% \r\n",
        "  group_by(review_alto) %>% \r\n",
        "  summarize(n = n(),\r\n",
        "            media = mean(frete_sobre_preco, na.rm = T),\r\n",
        "            desvio_padrao = sd(frete_sobre_preco, na.rm = T),\r\n",
        "            min = min(frete_sobre_preco, na.rm = T),\r\n",
        "            max = max(frete_sobre_preco, na.rm = T))\r\n",
        "\r\n",
        "# # Possível gráfico interessante comparativo entre dois grupos:\r\n",
        " base_analise %>% \r\n",
        "   sample_frac(0.01) %>%\r\n",
        "   mutate(log_price = log(price)) %>% \r\n",
        "   ggstatsplot::ggbetweenstats(\r\n",
        "   x = review_alto,\r\n",
        "   y = log_price,\r\n",
        "   title = \"Comparação do Log do Preço com Nota do Cliente\"\r\n",
        " )"
      ],
      "execution_count": null,
      "outputs": []
    },
    {
      "cell_type": "code",
      "metadata": {
        "id": "1kJF1NfEaHC2"
      },
      "source": [
        "\r\n",
        "# ---- Interlúdio: Múltiplas Densidades e a limitação de Boxplots ---- #\r\n",
        "\r\n",
        "# Relação de preço com product_category_name\r\n",
        "\r\n",
        "base_analise %>% \r\n",
        "  mutate(cat_product_category_name = fct_lump(product_category_name, n = 7)) %>% \r\n",
        "  ggplot(aes(x = log(price), fill = cat_product_category_name)) +\r\n",
        "  geom_density(alpha = 0.35)\r\n",
        "# Difícil de Visualizar\r\n",
        "\r\n",
        "base_analise %>% \r\n",
        "  mutate(cat_product_category_name = fct_lump(product_category_name, n = 7),\r\n",
        "         log_price = log(price)) %>%\r\n",
        "  ggplot(aes(x = log_price, \r\n",
        "             y = cat_product_category_name,\r\n",
        "             fill = stat(x))) + \r\n",
        "  geom_density_ridges_gradient(scale = 3, rel_min_height = 0.001) +\r\n",
        "  scale_fill_viridis_c(name = \"Preço (em log)\")\r\n",
        "# Melhor de Visualizar\r\n",
        "\r\n",
        "base_analise %>% \r\n",
        "  mutate(cat_product_category_name = fct_lump(product_category_name, n = 7),\r\n",
        "         log_price = log(price)) %>% \r\n",
        "  ggplot(aes(fill = cat_product_category_name,\r\n",
        "             y = log_price,\r\n",
        "             x = cat_product_category_name)) +\r\n",
        "  geom_boxplot() +\r\n",
        "  theme(legend.title = element_blank(),\r\n",
        "        axis.text.x = element_text(angle = 45))\r\n",
        "# Boxplot pode não refletir a distribuição dos dados\r\n",
        "\r\n",
        "\r\n",
        "# ---- Fim do Interlúdio ---- #\r\n"
      ],
      "execution_count": null,
      "outputs": []
    },
    {
      "cell_type": "code",
      "metadata": {
        "id": "NwcNsiUmaXD-"
      },
      "source": [
        "\r\n",
        "\r\n",
        "# Dias de Antecipação na entrega/Atrasou vs. Review\r\n",
        "\r\n",
        "base_analise %>% \r\n",
        "  group_by(review_alto) %>% \r\n",
        "  summarize(n = n(),\r\n",
        "            media = mean(dias_antecipacao_na_entrega, na.rm = T),\r\n",
        "            desvio_padrao = sd(dias_antecipacao_na_entrega, na.rm = T),\r\n",
        "            min = min(dias_antecipacao_na_entrega, na.rm = T),\r\n",
        "            max = max(dias_antecipacao_na_entrega, na.rm = T))\r\n",
        "\r\n",
        "base_analise %>% \r\n",
        "  ggplot(aes(x = dias_antecipacao_na_entrega, fill = as.factor(review_alto))) +\r\n",
        "  geom_density(alpha = 0.5)\r\n",
        "\r\n",
        "# Analisando pela quantidade de dias não é tão clara a diferença,\r\n",
        "# mas analisando pela variável dicotômica \"Atrasou\", fica clara a relevância\r\n",
        "\r\n",
        "base_analise %>% \r\n",
        "  mutate(atrasou = ifelse(atrasou == 1, 'Sim', 'Não')) %>% \r\n",
        "  plota_tx_interesse(var_x = 'atrasou',\r\n",
        "                     var_y = 'review_alto',\r\n",
        "                     flag_interesse = 'Nota Máxima',\r\n",
        "                     ylim = NA)\r\n"
      ],
      "execution_count": null,
      "outputs": []
    },
    {
      "cell_type": "code",
      "metadata": {
        "id": "QSSt1J0palSA"
      },
      "source": [
        "# product_photos_qty vs. Review\r\n",
        "# Imputando NA's e Categorizando uma variável numérica!\r\n",
        "base_analise %>% \r\n",
        "  replace_na(list(product_photos_qty = 0)) %>% \r\n",
        "  plota_tx_interesse(var_x = 'product_photos_qty',\r\n",
        "                     var_y = 'review_alto',\r\n",
        "                     flag_interesse = 'Nota Máxima')\r\n",
        "# Diferença pontual entre taxas ainda pequena"
      ],
      "execution_count": null,
      "outputs": []
    },
    {
      "cell_type": "code",
      "metadata": {
        "id": "H2EHx0yvaq5T"
      },
      "source": [
        "# Visualização múltipla: o poder do Grammar of Graphics\r\n",
        "\r\n",
        "# Gráfico de dispersão: Preço vs. Frete vs. Review vs. Estado vs. Atrasou vs. Qtd. de Photos\r\n",
        "base_analise %>% \r\n",
        "  sample_frac(0.1) %>% \r\n",
        "  replace_na(list(product_photos_qty = 0)) %>% \r\n",
        "  mutate(customer_state = fct_lump(customer_state, 5)) %>% \r\n",
        "  ggplot(aes(x = log(price),\r\n",
        "             y = log(freight_value),\r\n",
        "             col = review_alto,\r\n",
        "             size = product_photos_qty)) +\r\n",
        "  geom_point(alpha = 0.5) +\r\n",
        "  facet_wrap(customer_state ~ atrasou, \r\n",
        "             labeller = \"label_both\"\r\n",
        "             #, scales = \"free\"\r\n",
        "             ) +\r\n",
        "  ggtitle('Preço vs. Frete vs. Review vs. Estado vs. Atrasou vs. Qtd. de Photos') +\r\n",
        "  theme_light()\r\n",
        "\r\n",
        "# Observação: é possível incluir interatividade no gráfico acima facilmente\r\n",
        "# Com a função \"ggplotly\" (alguns ajustes podem ser requeridos como o scales = \"free\")\r\n",
        "\r\n",
        "# Visualização conjunta de variáveis numéricas, misturando data wrangling e data visualization"
      ],
      "execution_count": null,
      "outputs": []
    },
    {
      "cell_type": "code",
      "metadata": {
        "id": "g0WBZK5Pa2cJ"
      },
      "source": [
        "# Lembre da Distribuição assimétrica de frete_sobre_preco e price\r\n",
        "# Aplicando a transformação logarítmica\r\n",
        "base_analise %>% \r\n",
        "  mutate(dias_antecipacao_na_entrega = as.numeric(dias_antecipacao_na_entrega),\r\n",
        "         log_price = log(price),\r\n",
        "         frete_sobre_preco_desloc = (freight_value + 1) / (price + 1), # Desloca-se para evitar -Infinito\r\n",
        "         log_frete_sobre_preco_desloc = log(frete_sobre_preco_desloc)) %>% # Mantém mesmo tipo de dado para gather\r\n",
        "  select(log_price, \r\n",
        "         log_frete_sobre_preco_desloc, \r\n",
        "         dias_antecipacao_na_entrega, \r\n",
        "         review_alto) %>% \r\n",
        "  gather(variavel, valor, -review_alto) %>% \r\n",
        "  ggplot(aes(x = valor, \r\n",
        "             fill = as.factor(review_alto))) +\r\n",
        "  geom_density(alpha = 0.5) +\r\n",
        "  facet_wrap(~variavel, scales = \"free\") +\r\n",
        "  labs(fill = \"Review Alto\")"
      ],
      "execution_count": null,
      "outputs": []
    },
    {
      "cell_type": "code",
      "metadata": {
        "id": "tUq5vpgFa4nQ"
      },
      "source": [
        "# Salva a base de Dados para modelagem posterior\r\n",
        "\r\n",
        "base_model <- base_analise %>% \r\n",
        "  mutate(dias_antecipacao_na_entrega = as.numeric(dias_antecipacao_na_entrega),\r\n",
        "         log_price = log(price),\r\n",
        "         frete_sobre_preco_desloc = (freight_value + 1) / (price + 1), # Desloca-se para evitar -Infinito\r\n",
        "         log_frete_sobre_preco_desloc = log(frete_sobre_preco_desloc),\r\n",
        "         product_category_name_cat = fct_lump(product_category_name, 7)\r\n",
        "         ) %>% \r\n",
        "  replace_na(list(product_photos_qty = 0)) %>% \r\n",
        "  select(customer_state,\r\n",
        "         log_price,\r\n",
        "         log_frete_sobre_preco_desloc,\r\n",
        "         payment_type,\r\n",
        "         product_category_name_cat,\r\n",
        "         product_photos_qty,\r\n",
        "         dias_antecipacao_na_entrega,\r\n",
        "         atrasou,\r\n",
        "         review_alto_numerico)"
      ],
      "execution_count": 97,
      "outputs": []
    },
    {
      "cell_type": "code",
      "metadata": {
        "id": "AUQotd6ja-Uo"
      },
      "source": [
        "# Ainda temos NA's na base?\r\n",
        "map_df(base_model, ~sum(is.na(.))) %>% \r\n",
        "  gather() %>% \r\n",
        "  arrange(desc(value))"
      ],
      "execution_count": null,
      "outputs": []
    },
    {
      "cell_type": "code",
      "metadata": {
        "id": "TIzoNMxWbDIi"
      },
      "source": [
        "# Criamos uma classe explícita de NA para produto e imputamos NA no tipo de pagamento pela categoria mais provável\r\n",
        "\r\n",
        "base_model <- base_model %>% \r\n",
        "  mutate(product_category_name_cat = fct_explicit_na(product_category_name_cat)) %>% \r\n",
        "  replace_na(list(payment_type = 'credit_card'))\r\n",
        "\r\n",
        "saveRDS(base_model, 'data/base_model.rds')"
      ],
      "execution_count": 100,
      "outputs": []
    }
  ]
}